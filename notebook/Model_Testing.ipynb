import matplotlib.pyplot as plt
import numpy as np

# Select 5 random indices from test set
random_indices = np.random.choice(len(X_test), size=5, replace=False)

plt.figure(figsize=(15, 5))

for i, idx in enumerate(random_indices):
    test_img = X_test[idx].reshape(1, 48, 48, 1)
    pred = model.predict(test_img)

    predicted_class = np.argmax(pred)
    predicted_emotion = emotion_labels[predicted_class]
    confidence = pred[0][predicted_class] * 100  # Percentage

    # Plotting
    plt.subplot(1, 5, i + 1)
    plt.imshow(X_test[idx].reshape(48, 48), cmap='gray')
    plt.title(f"{predicted_emotion}\n({confidence:.2f}%)")
    plt.axis('off')

plt.tight_layout()
plt.show()
