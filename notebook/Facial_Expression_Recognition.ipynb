import pandas as pd
import numpy as np
import tensorflow as tf
from sklearn.model_selection import train_test_split
from tensorflow.keras.utils import to_categorical
from tensorflow.keras.models import Sequential
from tensorflow.keras.layers import Conv2D, MaxPooling2D, Flatten, Dense, Dropout
from tensorflow.keras.callbacks import EarlyStopping

# Load FER2013 CSV
csv_path = '/content/drive/MyDrive/Hackathon/fer2013.csv'
df = pd.read_csv(csv_path)
print(df.head())


# Emotion labels mapping
emotion_labels = {
  0: 'Angry', 1: 'Disgust', 2: 'Fear', 3: 'Happy',
  4: 'Sad', 5: 'Surprise', 6: 'Neutral'
}

# Convert pixels column to numpy arrays
X = []
for pixel_sequence in df['pixels']:
    pixels = np.array([int(pixel) for pixel in pixel_sequence.split()]).reshape(48, 48, 1)
    X.append(pixels)
X = np.array(X)
X = X / 255.0  # Normalize

# One-hot encode labels
y = to_categorical(df['emotion'], num_classes=7)

# Train-test split
X_train, X_test, y_train, y_test = train_test_split(X, y, test_size=0.1, random_state=42)

model = Sequential([
    Conv2D(32, (3,3), activation='relu', input_shape=(48,48,1)),
    MaxPooling2D(2,2),

    Conv2D(64, (3,3), activation='relu'),
    MaxPooling2D(2,2),

    Conv2D(128, (3,3), activation='relu'),
    MaxPooling2D(2,2),

    Flatten(),
    Dense(128, activation='relu'),
    Dropout(0.5),
    Dense(7, activation='softmax')  # 7 emotions
])

model.compile(optimizer='adam', loss='categorical_crossentropy', metrics=['accuracy'])
model.summary()


# Define EarlyStopping callback
early_stop = EarlyStopping(
    monitor='val_loss',  # You can also use 'val_accuracy'
    patience=5,          # Stop if val_loss doesn't improve after 5 epochs
    restore_best_weights=True  # Load best weights back
)

# Train Model
history = model.fit(
    X_train, y_train,
    epochs=25,              # Run for up to 25 epochs
    batch_size=64,          # Safe batch size
    validation_data=(X_test, y_test),
    callbacks=[early_stop]  # Apply early stopping
)

# Save model
model_save_path = '/content/drive/MyDrive/Hackathon/Model/emotion_cnn_model2.h5'
model.save(model_save_path)
print(f"Model saved at: {model_save_path}")
